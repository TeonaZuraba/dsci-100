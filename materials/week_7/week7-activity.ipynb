{
 "cells": [
  {
   "cell_type": "markdown",
   "metadata": {},
   "source": [
    "Before you turn this problem in, make sure everything runs as expected. First, **restart the kernel** (in the menubar, select Kernel$\\rightarrow$Restart) and then **run all cells** (in the menubar, select Cell$\\rightarrow$Run All).\n",
    "\n",
    "Make sure you fill in any place that says `YOUR CODE HERE` or \"YOUR ANSWER HERE\", as well as your name and collaborators below:"
   ]
  },
  {
   "cell_type": "code",
   "execution_count": null,
   "metadata": {},
   "outputs": [],
   "source": [
    "NAME = \"\"\n",
    "COLLABORATORS = \"\""
   ]
  },
  {
   "cell_type": "markdown",
   "metadata": {},
   "source": [
    "---"
   ]
  },
  {
   "cell_type": "markdown",
   "metadata": {},
   "source": [
    "# Week 7 In-class activity - Classification"
   ]
  },
  {
   "cell_type": "markdown",
   "metadata": {},
   "source": [
    "* clicker questions (1-2 per lecture)\n",
    "* pair programming (one per lecture - can be combined with clicker, for example do pair programming to solve a problem that you share your answer using clickers)\n",
    "* social, get out of your seat activity (e.g., clustering interpretive dance, value lines, etc) (one per lecture time)"
   ]
  },
  {
   "cell_type": "markdown",
   "metadata": {},
   "source": [
    "# Clicker question 1 \n",
    "Before applying knn to a classification task, we may want to rescale the data. What is the purpose of this step?\n",
    "\n",
    "a) To help improve the processing power of the knn algorithm. \n",
    "\n",
    "b) To convert all data observations to numeric values. \n",
    "\n",
    "c) To ensure all data observations will be on a comparable scale and contribute equal shares to distance.\n",
    "\n",
    "ANSWER: c)\n"
   ]
  },
  {
   "cell_type": "markdown",
   "metadata": {},
   "source": [
    "# Clicker question 2 \n",
    "Choosing a larger value of $k$ for our knn classifier is not necessarily always better. We generally want to keep $k$ as small as possible, but no smaller. Which of the following statements is true when choosing the value of $k$?\n",
    "\n",
    "a) A smaller k minimizes the chance of a tie vote.\n",
    "\n",
    "b) A choice of $k$ that is too large may lead to overfitting (sensitive to noise rather than reflecting general trends).\n",
    "\n",
    "c) A choice of $k$ that is too large may lead to underfitting (doesn’t generalize enough).\n",
    "\n",
    "ANS: c) "
   ]
  },
  {
   "cell_type": "markdown",
   "metadata": {},
   "source": [
    "## Pair programming: German credit example\n",
    "We are going to work a dataset called the Statlog (German Credit Data) Data Set. The data has many attributes, such as \"Status of existing checking account\", \"credit history\" etc for 1000 individuals and classifies people as good or bad credit risks (1 = good, 2 = bad). The dataset can be found [here](http://archive.ics.uci.edu/ml/datasets/Statlog+%28German+Credit+Data%29). \n",
    "\n",
    "Load the appropriate packages and the \"german.csv\" dataset into the notebook. "
   ]
  },
  {
   "cell_type": "code",
   "execution_count": null,
   "metadata": {},
   "outputs": [],
   "source": [
    "library(tidyverse)\n",
    "library(caret)\n",
    "gDat <- read_csv(\"data/german.csv\")\n",
    "gDat <- gDat %>% \n",
    "  mutate(Default = as.factor(Default)) "
   ]
  },
  {
   "cell_type": "markdown",
   "metadata": {},
   "source": [
    "Q1) Partition the data into a training (70%) and testing (30%) set using the `caret` package. Select the \"duration\", \"amount\", and \"default\" variables to include in your datasets. "
   ]
  },
  {
   "cell_type": "code",
   "execution_count": null,
   "metadata": {},
   "outputs": [],
   "source": [
    "#### R caret \n",
    "set.seed(100)      # set seed so same results can be obtained \n",
    "\n",
    "# create a vector of your class variable\n",
    "labels <- gDat %>% \n",
    "  pull(Default)   # pull out a vector rather than having a dataframe\n",
    "\n",
    "# randomly take 70% of the data in the training set proportional to \n",
    "# the number of good and bad credit risk observations in the dataset\n",
    "# list = F denotes that the indices we obtain should form a vector\n",
    "# create index to split based on labels\n",
    "index <- createDataPartition(labels, p = 0.7, list = F)\n",
    "\n",
    "# filtering the dataset into training data based on the random indices above\n",
    "# select the columns \"duration\" and \"amount\"\n",
    "trainingDat <- gDat %>% \n",
    "    select(Duration, Amount) %>% \n",
    "    filter(row_number() %in% index)\n",
    "\n",
    "# create a vector of labels to use with knn by extracting your class variable\n",
    "# for your training set observations\n",
    "trainingLabels <-  gDat %>% \n",
    "    select(Default) %>% \n",
    "    filter(row_number() %in% index) %>%\n",
    "    pull()\n",
    "\n",
    "# creating the testing set based on the remaining observations \n",
    "# selecting the columns \"duration\" and \"amount\"\n",
    "\n",
    "testingDat <- gDat %>% \n",
    "  select(Duration, Amount) %>% \n",
    "  filter(!(row_number() %in% index))\n",
    "\n",
    "# create a vector of labels to use with knn by extracting your class variable\n",
    "# for your testing set observations\n",
    "testingLabels <- gDat %>% \n",
    "  select(Default) %>% \n",
    "  filter(!(row_number() %in% index)) %>%\n",
    "  pull()"
   ]
  },
  {
   "cell_type": "markdown",
   "metadata": {},
   "source": [
    "Q2) Perform 10 fold cross validation to select the value of k. What value of k do you choose?"
   ]
  },
  {
   "cell_type": "code",
   "execution_count": null,
   "metadata": {},
   "outputs": [],
   "source": [
    "# set the \"x\" argument equal to your training data as a data.frame \n",
    "# set the \"y\" argument equal to the training labels vector \n",
    "# set the \"trControl\" argument equal to trainControl(method = \"cv\", number = 10)\n",
    "# Remember to pre-process your data if necessary\n",
    "model_knn <- train(x = data.frame(trainingDat),\n",
    "                   y = trainingLabels,\n",
    "                   method = \"knn\", \n",
    "                   trControl = trainControl(method = \"cv\", number = 10),\n",
    "                   preProcess=c(\"center\", \"scale\"))\n",
    "predictions <- predict(model_knn, testingDat)"
   ]
  },
  {
   "cell_type": "markdown",
   "metadata": {},
   "source": [
    "# Social activity \n",
    "1. Collect student data before class  (height and shoe size?, height and hair length?) \n",
    "2. Display a scatterplot on the whiteboard/chalk board \n",
    "3. Get students to classify instructor - post it note - attach to the board \n",
    "4. Fastest person wins something? \n"
   ]
  }
 ],
 "metadata": {
  "kernelspec": {
   "display_name": "R",
   "language": "R",
   "name": "ir"
  },
  "language_info": {
   "codemirror_mode": "r",
   "file_extension": ".r",
   "mimetype": "text/x-r-source",
   "name": "R",
   "pygments_lexer": "r",
   "version": "3.4.3"
  }
 },
 "nbformat": 4,
 "nbformat_minor": 2
}
