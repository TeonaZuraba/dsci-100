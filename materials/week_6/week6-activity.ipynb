{
 "cells": [
  {
   "cell_type": "markdown",
   "metadata": {},
   "source": [
    "Before you turn this problem in, make sure everything runs as expected. First, **restart the kernel** (in the menubar, select Kernel$\\rightarrow$Restart) and then **run all cells** (in the menubar, select Cell$\\rightarrow$Run All).\n",
    "\n",
    "Make sure you fill in any place that says `YOUR CODE HERE` or \"YOUR ANSWER HERE\", as well as your name and collaborators below:"
   ]
  },
  {
   "cell_type": "code",
   "execution_count": null,
   "metadata": {},
   "outputs": [],
   "source": [
    "NAME = \"\"\n",
    "COLLABORATORS = \"\""
   ]
  },
  {
   "cell_type": "markdown",
   "metadata": {},
   "source": [
    "---"
   ]
  },
  {
   "cell_type": "markdown",
   "metadata": {},
   "source": [
    "# Week 6 In-class activity: Classification part 1"
   ]
  },
  {
   "cell_type": "markdown",
   "metadata": {},
   "source": [
    "* clicker questions (1-2 per lecture)\n",
    "* pair programming (one per lecture - can be combined with clicker, for example do pair programming to solve a problem that you share your answer using clickers)\n",
    "* social, get out of your seat activity (e.g., clustering interpretive dance, value lines, etc) (one per lecture time)"
   ]
  },
  {
   "cell_type": "markdown",
   "metadata": {},
   "source": [
    "## Clicker question 1\n",
    "Which of the following statements is NOT true of a training data set? \n",
    "\n",
    "a) A training data set is a collection of observations, where we know the class of each observation.\n",
    "\n",
    "b) We can use a training set to explore and build our classifier.\n",
    "\n",
    "c) The training data set is the underlying collection of observations for which we don't know the true classes.\n",
    "\n",
    "ANSWER: c)"
   ]
  },
  {
   "cell_type": "markdown",
   "metadata": {},
   "source": [
    "## Clicker question 2\n",
    "Consider the scenario below: \n",
    "\n",
    "We collect data on 20 similar products. For each product we have recorded whether it was a success or failure, price charged for the product, marketing budget, competition price, customer data, and ten other variables. Which of the following is a classification problem? \n",
    "(Adapted from James et al, \"An introduction to statistical learning\" 53)\n",
    "\n",
    "(a) We are interested in comparing the profit margins for products that are a success and products that are a failure. \n",
    "\n",
    "(b)  We are considering launching a new product and wish to know whether it will be a success or a failure. \n",
    "\n",
    "(c)  We wish to group customers based on their preferences and use that knowledge to develop targeted marketing programs. \n",
    "\n",
    "ANSWER: b)"
   ]
  },
  {
   "cell_type": "markdown",
   "metadata": {},
   "source": [
    "## Activity discussion question: \n",
    "a) Think of a real-life application in which classification might be useful. Describe what you are trying to predict as well as the attributes used in the prediction. \n",
    "\n",
    "b) At your table, discuss with your neighbours your answer in part a).\n",
    "\n",
    "c) Share your answers with the class. "
   ]
  },
  {
   "cell_type": "markdown",
   "metadata": {},
   "source": [
    "## Activity discussion question:\n",
    "(to ask after Breast cancer dataset - Q5 part c in lecture worksheet)\n",
    "\n",
    "Consider the subset of 5 observations from Q5. If you try to classify the entire training dataset using a kNN classifier, what value of k will minimize the error for this dataset? \n",
    "\n",
    "Note that a point can be its own neighbour."
   ]
  },
  {
   "cell_type": "markdown",
   "metadata": {},
   "source": [
    "## Pair Programming task \n",
    "(to ask after fruit dataset - Q4)\n",
    "\n",
    "Complete the following programming task with your neighbour.\n",
    "\n",
    "i) Suppose we have a new observation in the fruit dataset with scaled mass 0.5 and scaled colour score 0.5. Using R and the `caret` package, how would you classify this observation based on $k=3$ nearest neighbours using attributes mass and colour score (scaled)? (Submit your answer with your clicker when you are ready)\n",
    "\n",
    "a) apple \n",
    "b) lemon \n",
    "c) mandarin \n",
    "d) orange \n",
    "\n",
    "ii) Does your result match with what you would expect based on the scatterplot of mass (scaled) vs. color score (scaled)?"
   ]
  },
  {
   "cell_type": "code",
   "execution_count": null,
   "metadata": {},
   "outputs": [],
   "source": [
    "#Answer \n",
    "library(tidyverse)\n",
    "library(readr)\n",
    "fruitDat <- read_csv(\"data/fruitDat_scaled.csv\")\n",
    "# Load caret package\n",
    "library(caret)\n",
    "\n",
    "# select the columns scaled_colour and scaled_mass and save it as \"trainingDat\"\n",
    "trainingDat <- fruitDat %>%\n",
    "  select(\"scaled_color\", \"scaled_mass\")\n",
    "\n",
    "# make a vector of your class variable\n",
    "labels <- fruitDat %>% \n",
    "    select(fruit_name) %>% \n",
    "    pull()                  # pulling out a single vector\n",
    "\n",
    "# save k as a dataframe with column label \"k\", setting k = 3 nearest neighbours\n",
    "k <- data.frame(k = 3)\n",
    "\n",
    "# set resampling method to none\n",
    "trCtrl <- trainControl(method = \"none\")\n",
    "\n",
    "# use the train() function on your \"trainingDat\" and vector of your class variable\n",
    "model_knn <- train(x = data.frame(trainingDat), \n",
    "                   y = labels, \n",
    "                   method='knn', \n",
    "                   tuneGrid = k,\n",
    "                   trControl = trCtrl)\n",
    "\n",
    "# create a dataframe of your new observation with the column labels \"scaled_color\" and \"scaled_mass\"\n",
    "new_obs <- data.frame(scaled_color = 0.5, scaled_mass = 0.5)\n",
    "\n",
    "# Use the predict() function to find the class of your new observation\n",
    "predict(object=model_knn, new_obs)"
   ]
  },
  {
   "cell_type": "markdown",
   "metadata": {},
   "source": [
    "ANSWER: The new observation is classified as an orange, using R to classify based on these 2 attributes with $k=3$ nearest neighbours. This matches with what we expect based on the scatterplot. "
   ]
  }
 ],
 "metadata": {
  "kernelspec": {
   "display_name": "R",
   "language": "R",
   "name": "ir"
  },
  "language_info": {
   "codemirror_mode": "r",
   "file_extension": ".r",
   "mimetype": "text/x-r-source",
   "name": "R",
   "pygments_lexer": "r",
   "version": "3.4.3"
  }
 },
 "nbformat": 4,
 "nbformat_minor": 2
}
