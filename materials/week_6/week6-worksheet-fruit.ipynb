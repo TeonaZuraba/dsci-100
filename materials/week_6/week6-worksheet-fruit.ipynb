{
 "cells": [
  {
   "cell_type": "markdown",
   "metadata": {},
   "source": [
    "Before you turn this problem in, make sure everything runs as expected. First, **restart the kernel** (in the menubar, select Kernel$\\rightarrow$Restart) and then **run all cells** (in the menubar, select Cell$\\rightarrow$Run All).\n",
    "\n",
    "Make sure you fill in any place that says `YOUR CODE HERE` or \"YOUR ANSWER HERE\", as well as your name and collaborators below:"
   ]
  },
  {
   "cell_type": "code",
   "execution_count": null,
   "metadata": {},
   "outputs": [],
   "source": [
    "NAME = \"\"\n",
    "COLLABORATORS = \"\""
   ]
  },
  {
   "cell_type": "markdown",
   "metadata": {},
   "source": [
    "---"
   ]
  },
  {
   "cell_type": "markdown",
   "metadata": {},
   "source": [
    "# Week 6 Lecture Worksheet - Classification"
   ]
  },
  {
   "cell_type": "markdown",
   "metadata": {},
   "source": [
    "## Learning Objectives\n",
    "* Recognize situations where a simple classifier would be appropriate for making predictions.\n",
    "* Explain the k-nearest neighbour classification algorithm.\n",
    "* Interpret the output of a classifier.\n",
    "* Compute, by hand, the distance between points when there are two attributes.\n",
    "* Describe what a training data set is and how it is used in classification.\n",
    "* In a dataset with two attributes, perform k-nearest neighbour classification in R using caret::train(method = \"knn\", ...) to predict the class of a single new observation."
   ]
  },
  {
   "cell_type": "code",
   "execution_count": null,
   "metadata": {},
   "outputs": [],
   "source": [
    "library(repr)      # options() to change the plot sizes\n",
    "library(tidyverse) "
   ]
  },
  {
   "cell_type": "markdown",
   "metadata": {},
   "source": [
    "# Part 1 - Breast cancer dataset\n",
    "We will work with the breast cancer data from this week's pre-reading. Load the appropriate packages and the \"clean-wdbc-data.csv\" dataset into the notebook. "
   ]
  },
  {
   "cell_type": "code",
   "execution_count": null,
   "metadata": {},
   "outputs": [],
   "source": [
    "bcDat <- read_csv(\"data/clean-wdbc-data.csv\")"
   ]
  },
  {
   "cell_type": "markdown",
   "metadata": {},
   "source": [
    "## Question 1\n",
    "The first six rows of the breast cancer data table is shown below. "
   ]
  },
  {
   "cell_type": "code",
   "execution_count": null,
   "metadata": {},
   "outputs": [],
   "source": [
    "# hidden cell \n",
    "head(bcDat)"
   ]
  },
  {
   "cell_type": "markdown",
   "metadata": {},
   "source": [
    "We want to predict the variable \"area\" for a new observation. True or False: Is this a classification problem?"
   ]
  },
  {
   "cell_type": "markdown",
   "metadata": {},
   "source": [
    "ANSWER: False"
   ]
  },
  {
   "cell_type": "markdown",
   "metadata": {},
   "source": [
    "## Question 2\n",
    "Just by looking at the scatterplot below, how would you classify an observation with symmetry 1 and radius 0.5?  \n",
    "a) Benign \n",
    "b) Malignant"
   ]
  },
  {
   "cell_type": "code",
   "execution_count": null,
   "metadata": {},
   "outputs": [],
   "source": [
    "# Change plot size to 6 x 4\n",
    "options(repr.plot.width=6, repr.plot.height=4)\n",
    "\n",
    "bcDat %>%  \n",
    "  ggplot(aes(x=Symmetry, y=Radius, color = Class)) + \n",
    "  geom_point() +\n",
    "  scale_x_continuous(name = \"Symmetry\") +\n",
    "  scale_y_continuous(name = \"Radius\")"
   ]
  },
  {
   "cell_type": "markdown",
   "metadata": {},
   "source": [
    "## Question 3:\n",
    "Using R as a calculator and the formula below, compute the distance between the first and second observation in the breast cancer dataset using attributes symmetry and radius.\n",
    "\n",
    "* We want to find the distance between the first and second observation in the breast cancer dataset using 2 attributes: symmetry and radius.\n",
    "\n",
    "* Recall we can calculate the distance between two points using the following formula: \n",
    "$$Distance = \\sqrt{(x_a -x_b)^2 + (y_a - y_b)^2}$$\n",
    "\n",
    "* Point $a$, $(x_a, y_a)$, has coordinates $(2.75, 1.89)$ and point $b$, $(x_b, y_b)$, has coordinates $(-0.24, 1.80)$."
   ]
  },
  {
   "cell_type": "code",
   "execution_count": null,
   "metadata": {},
   "outputs": [],
   "source": [
    "(xa <- filter(bcDat, row_number()==1) %>% # selecting first observation from bcDat \n",
    "     select(Symmetry) %>%                 # selecting the column Symmetry \n",
    "     unlist())                            # we want the numeric value only               \n",
    "\n",
    "(ya <- filter(bcDat, row_number()==1)  %>%  \n",
    "    select(Radius) %>%\n",
    "    unlist())\n",
    "\n",
    "(xb <- filter(bcDat, row_number() == 2) %>%  \n",
    "    select(Symmetry) %>%\n",
    "    unlist())\n",
    "\n",
    "(yb <- filter(bcDat, row_number() == 2) %>%\n",
    "    select(Radius) %>%\n",
    "    unlist())"
   ]
  },
  {
   "cell_type": "code",
   "execution_count": null,
   "metadata": {},
   "outputs": [],
   "source": [
    "# ANSWER\n",
    "sqrt((xa - xb)^2 + (ya - yb)^2)"
   ]
  },
  {
   "cell_type": "markdown",
   "metadata": {},
   "source": [
    "## Question 4\n",
    "We want to calculate the distance between the first and second observation in the breast cancer dataset using 3 attributes: symmetry, radius and concavity. \n",
    "\n",
    "Notice that point a, $(x_a, y_a, z_a)$, has coordinates $(2.75, 1.89, 2.11)$ and point $b$, $(x_b, y_b, z_b)$, has coordinates $(-0.24, 1.80, -0.15)$"
   ]
  },
  {
   "cell_type": "code",
   "execution_count": null,
   "metadata": {},
   "outputs": [],
   "source": [
    "(za <- filter(bcDat, row_number() == 1) %>% # selecting first observation from bcDat \n",
    "    select(Concavity)%>%                    # selecting the column Concavity (third coordinate of point a) \n",
    "    unlist())\n",
    " \n",
    "(zb <- filter(bcDat, row_number() ==2) %>%\n",
    "    select(Concavity)%>%\n",
    "    unlist())"
   ]
  },
  {
   "cell_type": "markdown",
   "metadata": {},
   "source": [
    "### Part a) \n",
    "Using R as a calculator, calculate the distance between the first and second observation in the breast cancer dataset using 3 attributes: symmetry, radius and concavity."
   ]
  },
  {
   "cell_type": "code",
   "execution_count": null,
   "metadata": {},
   "outputs": [],
   "source": [
    "# ANSWER\n",
    "(distance <- sqrt((xa - xb)^2 + (ya - yb)^2 + (za - zb)^2))"
   ]
  },
  {
   "cell_type": "markdown",
   "metadata": {},
   "source": [
    "### Part b) \n",
    "#### i) \n",
    "Set up a vector for point $a$ and point $b$ (you should have 3 coordinates for each point). For instance, point $a$ will be at coordinates $(2.75, 1.89, 2.12)$"
   ]
  },
  {
   "cell_type": "code",
   "execution_count": null,
   "metadata": {},
   "outputs": [],
   "source": [
    "# ANSWER\n",
    "(point_a <- filter(bcDat, row_number() == 1) %>% # selecting first observation from bcDat \n",
    "    select(Symmetry, Radius, Concavity) %>%      # selecting columns Symmetry, radius and concavity \n",
    "    unlist())                                    # want numeric value \n",
    "\n",
    "(point_b <- filter(bcDat, row_number() == 2) %>%\n",
    "    select(Symmetry, Radius, Concavity) %>%\n",
    "    unlist()) "
   ]
  },
  {
   "cell_type": "markdown",
   "metadata": {},
   "source": [
    "#### ii)\n",
    "Calculate the difference between the vectors."
   ]
  },
  {
   "cell_type": "code",
   "execution_count": null,
   "metadata": {},
   "outputs": [],
   "source": [
    "#ANSWER \n",
    "point_a - point_b"
   ]
  },
  {
   "cell_type": "markdown",
   "metadata": {},
   "source": [
    "#### iii) \n",
    "Square the differences you calculated in part ii)."
   ]
  },
  {
   "cell_type": "code",
   "execution_count": null,
   "metadata": {},
   "outputs": [],
   "source": [
    "# ANSWER \n",
    "(point_a - point_b)^2"
   ]
  },
  {
   "cell_type": "markdown",
   "metadata": {},
   "source": [
    "#### iv) \n",
    "Sum the entries of your answer in part iii)."
   ]
  },
  {
   "cell_type": "code",
   "execution_count": null,
   "metadata": {},
   "outputs": [],
   "source": [
    "# ANSWER \n",
    "sum((point_a - point_b)^2)"
   ]
  },
  {
   "cell_type": "markdown",
   "metadata": {},
   "source": [
    "#### v) \n",
    "Square root the sum of your squared differences you calculated in part iv. "
   ]
  },
  {
   "cell_type": "code",
   "execution_count": null,
   "metadata": {},
   "outputs": [],
   "source": [
    "# ANSWER \n",
    "sqrt(sum((point_a - point_b)^2))"
   ]
  },
  {
   "cell_type": "markdown",
   "metadata": {},
   "source": [
    "### Part c) \n",
    "If we have more than a few points, calculating distances as we did in parts (a) and (b) is slow. Let's use the `dist()` function to find the distance between the first and second observation in the breast cancer dataset using symmetry, radius and concavity. "
   ]
  },
  {
   "cell_type": "code",
   "execution_count": null,
   "metadata": {},
   "outputs": [],
   "source": [
    "#ANSWER\n",
    "head(bcDat, 2)  %>% \n",
    "    select(Symmetry, Radius, Concavity)  %>% \n",
    "    dist()"
   ]
  },
  {
   "cell_type": "markdown",
   "metadata": {},
   "source": [
    "### Part d) \n",
    "Compare your answers in parts a), b), and c). "
   ]
  },
  {
   "cell_type": "markdown",
   "metadata": {},
   "source": [
    "ANS: Answers in parts a, b and c are the same."
   ]
  },
  {
   "cell_type": "markdown",
   "metadata": {},
   "source": [
    "## Question 5\n",
    "Let's take a subset of 5 observations from the breast cancer dataset. We will focus on the attributes Symmetry and Radius.  "
   ]
  },
  {
   "cell_type": "code",
   "execution_count": null,
   "metadata": {},
   "outputs": [],
   "source": [
    "set.seed(2)                           # obtain the same results given the same seed number\n",
    "(subDat <- sample_n(bcDat, 5) %>%     # Taking a random sample of 5 from the bcDat dataset and calling it subDat\n",
    "    select(Symmetry, Radius, Class))  # Selecting only columns symmetry, radius and class\n",
    "\n",
    "options(repr.plot.width=6, repr.plot.height=4)\n",
    "subDat %>%  \n",
    "  ggplot(aes(x=Symmetry, y=Radius, color = Class)) + # making a scatterplot of symmetry and radius coloured by class\n",
    "  geom_point() +\n",
    "  scale_x_continuous(name = \"Symmetry\") +            # naming the x and y labels\n",
    "  scale_y_continuous(name = \"Radius\")"
   ]
  },
  {
   "cell_type": "markdown",
   "metadata": {},
   "source": [
    "Suppose we are interested in classifying a new observation with Symmetry 0 and Radius 0.25, but unknown Class. "
   ]
  },
  {
   "cell_type": "code",
   "execution_count": null,
   "metadata": {},
   "outputs": [],
   "source": [
    "(newDat <- subDat %>%\n",
    "    add_row(Symmetry = 0, Radius = 0.25, Class = \"unknown\")) # Adding the new observation to the last row of subDat and calling it newDat"
   ]
  },
  {
   "cell_type": "markdown",
   "metadata": {},
   "source": [
    "### Part a) \n",
    "Using the subset of 5 observations above, classify this new observation (Symmetry = 0 and Radius = 0.25, unknown Class) using the `dist()` function for $k = 1$."
   ]
  },
  {
   "cell_type": "code",
   "execution_count": null,
   "metadata": {},
   "outputs": [],
   "source": [
    "# ANSWER \n",
    "newDat %>%\n",
    "    select(Symmetry, Radius) %>% #from the subset data with the new observation selecting symmetry and radius columns\n",
    "    dist() %>%                   # calculate distance between pairs of observations\n",
    "    as.matrix()                  # making it into 6 x 6 matrix"
   ]
  },
  {
   "cell_type": "markdown",
   "metadata": {},
   "source": [
    "ANSWER: \n",
    "The nearest observation to our new point is observation 1 with distance $0.57$. We see from the data table above that the class of observation 1 is malignant. Using k = 1 nearest neighbour I would classify the observation as malignant. "
   ]
  },
  {
   "cell_type": "markdown",
   "metadata": {},
   "source": [
    "### Part b) \n",
    "Using the subset of 5 observations above, classify this new observation (Symmetry = 0 and Radius = 0.25, unknown Class) using the `dist()` function for $k = 3$."
   ]
  },
  {
   "cell_type": "markdown",
   "metadata": {},
   "source": [
    "ANSWER: Refer to the table above for distances. Using k = 3 observations, the 3 nearest points are observations 1, 3 and 2 with distances $0.57, 1.04$ and $1.36$ respectively. I would classify the observation as benign because 2/3 of these observations are benign and we take the majority vote. "
   ]
  },
  {
   "cell_type": "markdown",
   "metadata": {},
   "source": [
    "### Part c) \n",
    "Compare your answers in part a) and b). "
   ]
  },
  {
   "cell_type": "markdown",
   "metadata": {},
   "source": [
    "ANSWER: \n",
    "In part a) we classified the observation as malignant, but in part b) we classified the observation as benign. So our new observation's classification depends on our choice of $k$. We will discuss how to choose $k$ in later sections. "
   ]
  },
  {
   "cell_type": "code",
   "execution_count": null,
   "metadata": {},
   "outputs": [],
   "source": [
    "set.seed(2) \n",
    "(subDat <- sample_n(bcDat, 5) %>% # Taking a random sample of 5 from the bcDat dataset and calling it subDat\n",
    "    select(Symmetry, Radius, Class))  # Selecting only columns symmetry, radius and class"
   ]
  },
  {
   "cell_type": "markdown",
   "metadata": {},
   "source": [
    "# Part 2 - Fruit Dataset"
   ]
  },
  {
   "cell_type": "markdown",
   "metadata": {},
   "source": [
    "In the agricultural industry, cleaning, sorting, grading and packaging food products are all necessary tasks in the post-harvest process. Products are classified based on appearance, size and shape, attributes which helps determine the quality of the food. Sorting can be done by humans, but it is tedious and time consuming. Automatic sorting by machine could help this process by saving time and money. Images of the food products are captured and analysed to determine visual characteristics. The [dataset](https://www.kaggle.com/mjamilmoughal/k-nearest-neighbor-classifier-to-predict-fruits/notebook) contains observations of fruit described with four features 1) mass 2) width 3) height and 4) color score. The dataset \"fruitDat_scaled.csv\" has been scaled as part of the data preparation. Scaling will be discussed in more detail next week. "
   ]
  },
  {
   "cell_type": "markdown",
   "metadata": {},
   "source": [
    "Load the appropriate packages and \"fruitDat_scaled.csv\" dataset into the notebook."
   ]
  },
  {
   "cell_type": "code",
   "execution_count": null,
   "metadata": {},
   "outputs": [],
   "source": [
    "library(readr)\n",
    "fruitDat <- read_csv(\"data/fruitDat_scaled.csv\")"
   ]
  },
  {
   "cell_type": "markdown",
   "metadata": {},
   "source": [
    "### Question 1\n",
    "Name the variable type of each column in the fruit dataset. "
   ]
  },
  {
   "cell_type": "code",
   "execution_count": null,
   "metadata": {},
   "outputs": [],
   "source": [
    "glimpse(fruitDat)"
   ]
  },
  {
   "cell_type": "markdown",
   "metadata": {},
   "source": [
    "categorical: fruit label, fruit name and fruit subtype\n",
    "\n",
    "quanititative: mass, width, height, color score"
   ]
  },
  {
   "cell_type": "markdown",
   "metadata": {},
   "source": [
    "### Question 2\n",
    "Change the variable \"fruit_name\" to a factor and save it in your dataset. \n"
   ]
  },
  {
   "cell_type": "code",
   "execution_count": null,
   "metadata": {},
   "outputs": [],
   "source": [
    "fruitDat <- fruitDat %>% \n",
    "  mutate(fruit_name = as.factor(`fruit_name`)) "
   ]
  },
  {
   "cell_type": "markdown",
   "metadata": {},
   "source": [
    "### Question 3\n",
    "Make a scatterplot of scaled color score and scaled mass grouped by fruit name. "
   ]
  },
  {
   "cell_type": "code",
   "execution_count": null,
   "metadata": {},
   "outputs": [],
   "source": [
    "options(repr.plot.width=6, repr.plot.height=4)\n",
    "\n",
    "fruitDat %>%  \n",
    "  ggplot(aes(x=scaled_mass, y= scaled_color, color = fruit_name)) + \n",
    "  scale_x_continuous(name = \"Mass (scaled)\") +\n",
    "  scale_y_continuous(name = \"Color Score (scaled)\") +\n",
    "  geom_point()"
   ]
  },
  {
   "cell_type": "markdown",
   "metadata": {},
   "source": [
    "### Question 4 \n",
    "Suppose we have a new observation in the fruit dataset with scaled mass 0.5 and scaled colour score 0.5 labelled in black on the scatterplot below. "
   ]
  },
  {
   "cell_type": "code",
   "execution_count": null,
   "metadata": {},
   "outputs": [],
   "source": [
    "# hide plot\n",
    "options(repr.plot.width=6, repr.plot.height=4)\n",
    "\n",
    "fruitDat %>%  \n",
    "  ggplot(aes(x=scaled_mass, y= scaled_color, color = fruit_name)) + \n",
    "  scale_x_continuous(name = \"Mass (scaled)\") +\n",
    "  scale_y_continuous(name = \"Color Score (scaled)\") +\n",
    "  geom_point() + geom_point(aes(x= 0.5, y= 0.5), \n",
    "               color= \"black\", \n",
    "               size = 2.5) "
   ]
  },
  {
   "cell_type": "markdown",
   "metadata": {},
   "source": [
    "Just by looking at the scatterplot, how would you classify this observation based on the 3 closest neighbours? "
   ]
  },
  {
   "cell_type": "markdown",
   "metadata": {},
   "source": [
    "ANSWER: Just by looking at the scatterplot, I would classify the observation as an orange since 3 of the closest neighbours are oranges. "
   ]
  }
 ],
 "metadata": {
  "kernelspec": {
   "display_name": "R",
   "language": "R",
   "name": "ir"
  },
  "language_info": {
   "codemirror_mode": "r",
   "file_extension": ".r",
   "mimetype": "text/x-r-source",
   "name": "R",
   "pygments_lexer": "r",
   "version": "3.4.3"
  }
 },
 "nbformat": 4,
 "nbformat_minor": 2
}
